{
 "cells": [
  {
   "metadata": {
    "ExecuteTime": {
     "end_time": "2025-10-01T08:41:24.080800Z",
     "start_time": "2025-10-01T08:41:23.670754Z"
    }
   },
   "cell_type": "code",
   "source": [
    "import pandas as pd\n",
    "print(pd.read_csv(\"data/fake_insurance/raw_customer_and_purchase_data.csv\").head())\n",
    "print(pd.read_csv(\"data/fake_insurance/Train_insurance_products_description.csv\").head())\n"
   ],
   "id": "956597c600347d24",
   "outputs": [
    {
     "name": "stdout",
     "output_type": "stream",
     "text": [
      "   user_id    full_name  age gender marital_status  num_children location  \\\n",
      "0        1    Kim Hoàng   25     Nữ       Độc thân             0  Cần Thơ   \n",
      "1        2  Phương Trần   36     Nữ     Đã kết hôn             3  TP. HCM   \n",
      "2        3     Khoa Bùi   41     Nữ       Độc thân             0   Hà Nội   \n",
      "3        4     Phúc Mai   44     Nữ     Đã kết hôn             1   Hà Nội   \n",
      "4        5  An Hải Phạm   43     Nữ     Đã kết hôn             3  TP. HCM   \n",
      "\n",
      "        job_title  income_monthly purchased_product_id  \n",
      "0  Kỹ sư phần mềm        64000000                  P02  \n",
      "1         Nội trợ       128000000                  P01  \n",
      "2       Công nhân        42000000                  P05  \n",
      "3       Giáo viên        57000000                  P02  \n",
      "4         Nội trợ        98000000                  P04  \n",
      "  product_id                 product_name  \\\n",
      "0        P01  Bảo hiểm Sức khỏe Toàn diện   \n",
      "1        P02     Bảo hiểm Bệnh hiểm nghèo   \n",
      "2        P03   Bảo hiểm Nhân thọ Tích lũy   \n",
      "3        P04     Bảo hiểm Liên kết Đầu tư   \n",
      "4        P05     Bảo hiểm Hưu trí An nhàn   \n",
      "\n",
      "                                         description  \n",
      "0  Đối tượng phù hợp: Mọi cá nhân và gia đình mon...  \n",
      "1  Đối tượng phù hợp: Người trưởng thành, đặc biệ...  \n",
      "2  Đối tượng phù hợp: Những người có kế hoạch tài...  \n",
      "3  Đối tượng phù hợp: Khách hàng có khẩu vị rủi r...  \n",
      "4  Đối tượng phù hợp: Người lao động đang trong đ...  \n"
     ]
    }
   ],
   "execution_count": 1
  }
 ],
 "metadata": {
  "kernelspec": {
   "name": "python3",
   "language": "python",
   "display_name": "Python 3 (ipykernel)"
  }
 },
 "nbformat": 4,
 "nbformat_minor": 5
}
